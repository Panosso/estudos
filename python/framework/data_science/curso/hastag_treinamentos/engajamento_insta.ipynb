{
 "cells": [
  {
   "cell_type": "code",
   "execution_count": null,
   "metadata": {},
   "outputs": [],
   "source": [
    "import pandas as pd\n",
    "import numpy as np\n",
    "\n",
    "pd.options.display.float_format = '{:,.2f}'.format\n",
    "\n",
    "\n",
    "#Explode explode o df gerando mais linhas de acordo com as listas.\n",
    "dic = {'A': [[1,2], 3, [4,5,6], []],\n",
    "       'B': [1,2,3,4]}\n",
    "\n",
    "df_dic = pd.DataFrame(dic)\n",
    "df_dic = df_dic.explode('A')\n",
    "\n",
    "df = pd.read_excel('dados-instagram.xlsx')\n",
    "\n",
    "df.head()"
   ]
  },
  {
   "cell_type": "code",
   "execution_count": null,
   "metadata": {},
   "outputs": [],
   "source": [
    "#Drop, 'derruba' uma coluna, passando a coluna e o axis 1 para coluna e axis 0 para linha\n",
    "df = df.drop(['Visualizações'], axis=1)"
   ]
  },
  {
   "cell_type": "code",
   "execution_count": null,
   "metadata": {},
   "outputs": [],
   "source": [
    "display(df)\n",
    "df.info()"
   ]
  },
  {
   "cell_type": "code",
   "execution_count": null,
   "metadata": {},
   "outputs": [],
   "source": [
    "df.Carrossel.value_counts()\n",
    "df.loc[df.Carrossel.isnull(), 'Carrossel'] = 'N'\n",
    "df['Carrossel']"
   ]
  },
  {
   "cell_type": "code",
   "execution_count": null,
   "metadata": {},
   "outputs": [],
   "source": [
    "df.describe()\n",
    "df.head()"
   ]
  },
  {
   "cell_type": "code",
   "execution_count": null,
   "metadata": {},
   "outputs": [],
   "source": [
    "#Groupby define um grupo e uma função para agregar as colunas e gerar indicadores.\n",
    "df.groupby([\"Tipo\", \"Pessoas\"])[[\"Curtidas\", \"Comentários\"]].mean()"
   ]
  },
  {
   "cell_type": "code",
   "execution_count": null,
   "metadata": {},
   "outputs": [],
   "source": [
    "#Juntando Filtro e groupby\n",
    "df[df.Tipo == 'Foto'].groupby([\"Carrossel\"])[['Curtidas', 'Comentários']].mean()"
   ]
  },
  {
   "cell_type": "code",
   "execution_count": null,
   "metadata": {},
   "outputs": [],
   "source": [
    "df.groupby([\"Tags\"])[['Curtidas']].count()"
   ]
  },
  {
   "cell_type": "code",
   "execution_count": null,
   "metadata": {},
   "outputs": [],
   "source": [
    "df.Tags = df.Tags.str.split(\"//\")\n"
   ]
  },
  {
   "cell_type": "code",
   "execution_count": null,
   "metadata": {},
   "outputs": [],
   "source": [
    "df_dic"
   ]
  },
  {
   "cell_type": "code",
   "execution_count": null,
   "metadata": {},
   "outputs": [],
   "source": [
    "df = pd.read_excel('dados-instagram.xlsx')\n",
    "df['Tags'] = df.Tags.str.split(\"//\")\n",
    "df.head()\n",
    "# df = df.explode('Tags')"
   ]
  }
 ],
 "metadata": {
  "kernelspec": {
   "display_name": "venv",
   "language": "python",
   "name": "python3"
  },
  "language_info": {
   "codemirror_mode": {
    "name": "ipython",
    "version": 3
   },
   "file_extension": ".py",
   "mimetype": "text/x-python",
   "name": "python",
   "nbconvert_exporter": "python",
   "pygments_lexer": "ipython3",
   "version": "3.12.4"
  }
 },
 "nbformat": 4,
 "nbformat_minor": 2
}
